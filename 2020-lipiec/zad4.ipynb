{
 "cells": [
  {
   "cell_type": "code",
   "execution_count": 51,
   "metadata": {},
   "outputs": [],
   "source": [
    "import math\n",
    "file = open(\"identyfikator.txt\", \"r\")\n",
    "data = file.read()\n",
    "lines = data.splitlines()\n",
    "data = []\n",
    "for line in lines:\n",
    "    id = \"\"\n",
    "    for i in range(0, 3):\n",
    "        id += line[i]\n",
    "    numbers = \"\"\n",
    "    for i in range(3, len(line)):\n",
    "        numbers += line[i]\n",
    "    data.append((id, numbers))"
   ]
  },
  {
   "cell_type": "code",
   "execution_count": 55,
   "metadata": {},
   "outputs": [
    {
     "name": "stdout",
     "output_type": "stream",
     "text": [
      "zad 4.1:  ['GYJ959787', 'JOK786969']\n"
     ]
    }
   ],
   "source": [
    "# zad 4.1\n",
    "max_value = 0\n",
    "max_id = []\n",
    "for i in range(1, len(data)):\n",
    "    value = 0\n",
    "    for j in data[i][1]:\n",
    "        value += int(j)\n",
    "    if value > max_value:\n",
    "        max_value = value\n",
    "        max_id = [data[i][0] + data[i][1]]\n",
    "    elif value == max_value:\n",
    "        max_id.append(data[i][0] + data[i][1])\n",
    "print(\"zad 4.1: \",max_id)"
   ]
  },
  {
   "cell_type": "code",
   "execution_count": 53,
   "metadata": {},
   "outputs": [
    {
     "name": "stdout",
     "output_type": "stream",
     "text": [
      "['MBF340043', 'JKJ452719', 'GFG148345', 'AXA231829', 'KIK866983', 'LOL695279']\n"
     ]
    }
   ],
   "source": [
    "# zad 4.2\n",
    "def is_palindrom(word: str) -> bool:\n",
    "    for i in range(0, len(word) // 2):\n",
    "        if word[i] != word[len(word) - 1 - i]:\n",
    "            return False\n",
    "    return True\n",
    "res = []\n",
    "for id in data:\n",
    "    if is_palindrom(id[0]) or is_palindrom(id[1]):\n",
    "        res.append(id[0]+id[1])\n",
    "print(res)"
   ]
  },
  {
   "cell_type": "code",
   "execution_count": 54,
   "metadata": {},
   "outputs": [
    {
     "name": "stdout",
     "output_type": "stream",
     "text": [
      "('LIK', '235378')\n",
      "('MBF', '340043')\n",
      "('HFG', '378931')\n",
      "('KIJ', '511146')\n",
      "('NUK', '840936')\n",
      "('OKH', '427482')\n",
      "('RTS', '278686')\n"
     ]
    }
   ],
   "source": [
    "# zad 4.3\n",
    "def get_value(letter: str) -> int:\n",
    "    return ord(letter) - 55\n",
    "def get_num_values(id: tuple[str, str]) -> list[int]:\n",
    "    res = []\n",
    "    for c in id[0]:\n",
    "        res.append(get_value(c))\n",
    "    for c in range(1, len(id[1])):\n",
    "        res.append(int(id[1][c]))\n",
    "    return res\n",
    "def add_wages(input: list[int]) -> list[int]:\n",
    "    res = []\n",
    "    res.append(input[0] * 7)\n",
    "    res.append(input[1] * 3)\n",
    "    res.append(input[2] * 1)\n",
    "    res.append(input[3] * 7)\n",
    "    res.append(input[4] * 3)\n",
    "    res.append(input[5] * 1)\n",
    "    res.append(input[6] * 7)\n",
    "    res.append(input[7] * 3)\n",
    "    return res\n",
    "def is_ok(id: tuple[str, str]) -> bool:\n",
    "    res = sum(add_wages(get_num_values(id))) % 10\n",
    "    return res == int(id[1][0])\n",
    "\n",
    "for id in data:\n",
    "    if not is_ok(id):\n",
    "        print(id)"
   ]
  }
 ],
 "metadata": {
  "interpreter": {
   "hash": "e792c2bfc7fc9ccb88d1e950ff6f684199317d7a90b0c7503b4c3c912a176cb2"
  },
  "kernelspec": {
   "display_name": "Python 3.10.4 64-bit",
   "language": "python",
   "name": "python3"
  },
  "language_info": {
   "codemirror_mode": {
    "name": "ipython",
    "version": 3
   },
   "file_extension": ".py",
   "mimetype": "text/x-python",
   "name": "python",
   "nbconvert_exporter": "python",
   "pygments_lexer": "ipython3",
   "version": "3.10.4"
  },
  "orig_nbformat": 4
 },
 "nbformat": 4,
 "nbformat_minor": 2
}
