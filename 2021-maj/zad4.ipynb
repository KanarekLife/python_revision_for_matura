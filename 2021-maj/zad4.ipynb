{
 "cells": [
  {
   "cell_type": "code",
   "execution_count": 28,
   "metadata": {},
   "outputs": [],
   "source": [
    "import math\n",
    "file = open(\"instrukcje.txt\", \"r\")\n",
    "data = file.read()\n",
    "lines = data.splitlines()\n",
    "\n",
    "def dopisz(current: str, letter: str) -> str:\n",
    "    return current + letter\n",
    "def zmien(current: str, letter: str) -> str:\n",
    "    return current[:-1] + letter\n",
    "def usun(current: str) -> str:\n",
    "    return current[:-1]\n",
    "def przesun(current: str, letter: str) -> str:\n",
    "    arr = list(current)\n",
    "    for i in range(0, len(arr)):\n",
    "        if arr[i] == letter:\n",
    "            if arr[i] == \"Z\":\n",
    "                arr[i] = \"A\"\n",
    "            else:\n",
    "                arr[i] = chr(ord(arr[i])+1)\n",
    "            break\n",
    "    return \"\".join(arr)\n",
    "def execute_line(current: str, line: str) -> str:\n",
    "    if line.startswith(\"DOPISZ\"):\n",
    "        return dopisz(current, line.split()[1])\n",
    "    elif line.startswith(\"ZMIEN\"):\n",
    "        return zmien(current, line.split()[1])\n",
    "    elif line.startswith(\"USUN\"):\n",
    "        return usun(current)\n",
    "    elif line.startswith(\"PRZESUN\"):\n",
    "        return przesun(current, line.split()[1])\n",
    "    else:\n",
    "       raise Exception(\"LINE NOT PARSABLE\", line)\n",
    "def execute(lines: list[str]) -> str:\n",
    "    current = \"\"\n",
    "    for line in lines:\n",
    "        current = execute_line(current, line)\n",
    "    return current"
   ]
  },
  {
   "cell_type": "code",
   "execution_count": 29,
   "metadata": {},
   "outputs": [
    {
     "name": "stdout",
     "output_type": "stream",
     "text": [
      "zad 4.1:  517\n"
     ]
    }
   ],
   "source": [
    "result1 = execute(lines)\n",
    "print(\"zad 4.1: \", len(result1))"
   ]
  },
  {
   "cell_type": "code",
   "execution_count": 30,
   "metadata": {},
   "outputs": [
    {
     "name": "stdout",
     "output_type": "stream",
     "text": [
      "zad 4.2:  ZMIEN 7\n"
     ]
    }
   ],
   "source": [
    "cur_type = lines[0].split(' ')[0]\n",
    "cur_len = 1\n",
    "max_type = cur_type\n",
    "max_len = cur_len\n",
    "\n",
    "for i in range(1, len(lines)):\n",
    "    line = lines[i]\n",
    "    type = line.split(' ')[0]\n",
    "    if type == cur_type:\n",
    "        cur_len += 1\n",
    "    else:\n",
    "        cur_type = type\n",
    "        cur_len = 1\n",
    "    if cur_len > max_len:\n",
    "        max_type = cur_type\n",
    "        max_len = cur_len\n",
    "print(\"zad 4.2: \", max_type, max_len)"
   ]
  },
  {
   "cell_type": "code",
   "execution_count": 31,
   "metadata": {},
   "outputs": [
    {
     "name": "stdout",
     "output_type": "stream",
     "text": [
      "zad 4.3:  Z 37\n"
     ]
    }
   ],
   "source": [
    "dic = dict()\n",
    "for line in lines:\n",
    "    if line.startswith(\"DOPISZ\"):\n",
    "        value = line.split(' ')[1]\n",
    "        if dic.get(value):\n",
    "            dic[value] += 1\n",
    "        else:\n",
    "            dic[value] = 1\n",
    "max_value = max(dic.values())\n",
    "for letter in dic.keys():\n",
    "    if dic[letter] == max_value:\n",
    "        print(\"zad 4.3: \", letter, max_value)\n",
    "        break\n"
   ]
  },
  {
   "cell_type": "code",
   "execution_count": 32,
   "metadata": {},
   "outputs": [
    {
     "name": "stdout",
     "output_type": "stream",
     "text": [
      "zad 4.4:  POZNIEJMOWIONOZECZLOWIEKTENNADSZEDLODPOLNOCYODBRAMYPOWROZNICZEJSZEDLPIESZOAOBJUCZONEGOKONIAPROWADZILZAUZDEBYLOPOZNEPOPOLUDNIEIKRAMYPOWROZNIKOWIRYMARZYBYLYJUZZAMKNIETEAULICZKAPUSTABYLOCIEPLOACZLOWIEKTENMIALNASOBIECZARNYPLASZCZNARZUCONYNARAMIONAZWRACALUWAGEZATRZYMALSIEPRZEDGOSPODASTARYNARAKORTPOSTALCHWILEPOSLUCHALGWARUGLOSOWGOSPODAJAKZWYKLEOTEJPORZEBYLAPELNALUDZINIEZNAJOMYNIEWSZEDLDOSTAREGONARAKORTUPOCIAGNALKONIADALEJWDOLULICZKITAMBYLADRUGAKARCZMAMNIEJSZANAZYWALASIEPODLISEMTUBYLOPUSTOKARCZMANIEMIALANAJLEPSZEJSLAWY\n"
     ]
    }
   ],
   "source": [
    "print(\"zad 4.4: \", execute(lines))"
   ]
  }
 ],
 "metadata": {
  "interpreter": {
   "hash": "e792c2bfc7fc9ccb88d1e950ff6f684199317d7a90b0c7503b4c3c912a176cb2"
  },
  "kernelspec": {
   "display_name": "Python 3.10.4 64-bit",
   "language": "python",
   "name": "python3"
  },
  "language_info": {
   "codemirror_mode": {
    "name": "ipython",
    "version": 3
   },
   "file_extension": ".py",
   "mimetype": "text/x-python",
   "name": "python",
   "nbconvert_exporter": "python",
   "pygments_lexer": "ipython3",
   "version": "3.10.4"
  },
  "orig_nbformat": 4
 },
 "nbformat": 4,
 "nbformat_minor": 2
}
