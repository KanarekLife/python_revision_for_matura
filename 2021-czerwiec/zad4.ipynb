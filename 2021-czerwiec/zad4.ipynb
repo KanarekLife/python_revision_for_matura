{
 "cells": [
  {
   "cell_type": "code",
   "execution_count": 28,
   "metadata": {},
   "outputs": [],
   "source": [
    "import math\n",
    "file = open(\"napisy.txt\", \"r\")\n",
    "data = file.read()"
   ]
  },
  {
   "cell_type": "code",
   "execution_count": 29,
   "metadata": {},
   "outputs": [
    {
     "name": "stdout",
     "output_type": "stream",
     "text": [
      "zad 4.1:  11844\n"
     ]
    }
   ],
   "source": [
    "counter = 0\n",
    "for x in data:\n",
    "    if x.isdigit():\n",
    "        counter += 1\n",
    "print(\"zad 4.1: \", counter)"
   ]
  },
  {
   "cell_type": "code",
   "execution_count": 30,
   "metadata": {},
   "outputs": [
    {
     "name": "stdout",
     "output_type": "stream",
     "text": [
      "zad 4.2:  SZYBKOROZWIAZUJEPROGRAMISTYCZNEZADANIAZINFORMATYKI\n"
     ]
    }
   ],
   "source": [
    "res = \"\"\n",
    "lines = data.splitlines()\n",
    "counter = 1\n",
    "for i in range(1, len(lines)+1):\n",
    "    if i % 20 == 0:\n",
    "        line = lines[i-1]\n",
    "        res += line[counter-1]\n",
    "        counter += 1\n",
    "print(\"zad 4.2: \", res)"
   ]
  },
  {
   "cell_type": "code",
   "execution_count": 36,
   "metadata": {},
   "outputs": [
    {
     "name": "stdout",
     "output_type": "stream",
     "text": [
      "zad 4.3:  ZADANIEMATURALNE\n"
     ]
    }
   ],
   "source": [
    "def is_palindrom(word: str) -> bool:\n",
    "    for i in range(0, math.ceil(len(word)/ 2)):\n",
    "        if word[i] != word[len(word)-1-i]:\n",
    "            return False\n",
    "    return True\n",
    "\n",
    "def missing_start(word: str) -> bool:\n",
    "    return is_palindrom(word[len(word)-1]+word)\n",
    "\n",
    "def missing_end(word: str) -> bool:\n",
    "    return is_palindrom(word + word[0])\n",
    "\n",
    "result = \"\"\n",
    "for line in lines:\n",
    "    if missing_start(line):\n",
    "        result += (\"X\" + line)[int(len(line)/2)]\n",
    "    elif missing_end(line):\n",
    "        result += (line + \"X\")[int(len(line)/2)]\n",
    "print(\"zad 4.3: \", result)"
   ]
  },
  {
   "cell_type": "code",
   "execution_count": 32,
   "metadata": {},
   "outputs": [
    {
     "name": "stdout",
     "output_type": "stream",
     "text": [
      "LITWOOJCZYZNOMOJATYJESTESJAKZDROWIEILECIETRZEBACENICTENTYLKOSIEDOWIEKTOCIESTRACILNATENCZASWOJSKICHWYCILNATASMIEPRZYPIETYSWOJROGBAWOLIDLUGICENTKOWANYKRETYJAKWAZBOAXXX\n"
     ]
    }
   ],
   "source": [
    "def get_numbers(line: str) -> list[int]:\n",
    "    nums = []\n",
    "    for c in line:\n",
    "        if c.isdigit():\n",
    "            nums.append(int(c))\n",
    "    return nums\n",
    "\n",
    "password = \"\"\n",
    "end = False\n",
    "for line in lines:\n",
    "    if end:\n",
    "        break\n",
    "    numbers = get_numbers(line)\n",
    "    if len(numbers) % 2 == 1:\n",
    "        numbers = numbers[:-1]\n",
    "    for i in range(0, len(numbers), 2):\n",
    "        n = numbers[i]*10 + numbers[i+1]\n",
    "        if n < 65:\n",
    "            continue\n",
    "        elif n > 90:\n",
    "            continue\n",
    "        else:\n",
    "            password += chr(n)\n",
    "            if password.endswith(\"XXX\"):\n",
    "                end = True\n",
    "print(password)"
   ]
  }
 ],
 "metadata": {
  "interpreter": {
   "hash": "e792c2bfc7fc9ccb88d1e950ff6f684199317d7a90b0c7503b4c3c912a176cb2"
  },
  "kernelspec": {
   "display_name": "Python 3.10.4 64-bit",
   "language": "python",
   "name": "python3"
  },
  "language_info": {
   "codemirror_mode": {
    "name": "ipython",
    "version": 3
   },
   "file_extension": ".py",
   "mimetype": "text/x-python",
   "name": "python",
   "nbconvert_exporter": "python",
   "pygments_lexer": "ipython3",
   "version": "3.10.4"
  },
  "orig_nbformat": 4
 },
 "nbformat": 4,
 "nbformat_minor": 2
}
